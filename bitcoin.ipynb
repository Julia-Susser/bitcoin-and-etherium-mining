{
 "cells": [
  {
   "cell_type": "code",
   "execution_count": 3,
   "metadata": {},
   "outputs": [],
   "source": [
    "from bitcoin import *"
   ]
  },
  {
   "cell_type": "code",
   "execution_count": 5,
   "metadata": {},
   "outputs": [
    {
     "name": "stdout",
     "output_type": "stream",
     "text": [
      "Private Key: 5431abb84d1833af128b269c2221b89f9f22fc86a3aad2bba82ca5e933bca16fn\n",
      "Public Key: 04bf487f5d62cd79f66fe5a504f9e305d8963258b1a34bfee62a2819874429f3c92c9cbce8e4dfa4f5ab0427afc4bfc2a88f2b66594e8030631d1c132a7abd324fn\n",
      "Bitcoin Address: 1EMyzLp3bqi2NA72kdT5XuFMfZTgyiwMMWn\n"
     ]
    }
   ],
   "source": [
    "my_private_key = random_key()\n",
    "#display private key\n",
    "print(\"Private Key: %sn\" % my_private_key)\n",
    "#Generate public key\n",
    "my_public_key = privtopub(my_private_key)\n",
    "print(\"Public Key: %sn\" % my_public_key)\n",
    "#Create a bitcoin address\n",
    "my_bitcoin_address = pubtoaddr(my_public_key)\n",
    "print(\"Bitcoin Address: %sn\" % my_bitcoin_address)"
   ]
  },
  {
   "cell_type": "code",
   "execution_count": 7,
   "metadata": {},
   "outputs": [
    {
     "data": {
      "text/plain": [
       "'b5d4045c3f466fa91fe2cc6abe79232a1a57cdf104f7a26e716e0a1e2789df78'"
      ]
     },
     "execution_count": 7,
     "metadata": {},
     "output_type": "execute_result"
    }
   ],
   "source": [
    "from hashlib import sha256\n",
    "sha256(\"ABC\".encode(\"ascii\")).hexdigest()"
   ]
  },
  {
   "cell_type": "code",
   "execution_count": 9,
   "metadata": {},
   "outputs": [],
   "source": [
    "def SHA256(text):\n",
    "    return sha256(text.encode(\"ascii\")).hexdigest()"
   ]
  },
  {
   "cell_type": "code",
   "execution_count": 10,
   "metadata": {},
   "outputs": [],
   "source": [
    "MAX_NONCE=10000000        # You can also use a while loop to run infinitely with no upper limit\n",
    "def mine(block_number,transaction,previous_hash,prefix_zeros):\n",
    "    prefix_str='0'*prefix_zeros\n",
    "    for nonce in range(MAX_NONCE):\n",
    "        text= str(block_number) + transaction + previous_hash + str(nonce)\n",
    "        hash = SHA256(text)\n",
    "        # print(hash)\n",
    "        if hash.startswith(prefix_str):\n",
    "            print(\"Bitcoin mined with nonce value :\",nonce)\n",
    "            return hash\n",
    "    print(\"Could not find a hash in the given range of upto\", MAX_NONCE)"
   ]
  },
  {
   "cell_type": "code",
   "execution_count": 11,
   "metadata": {},
   "outputs": [
    {
     "name": "stdout",
     "output_type": "stream",
     "text": [
      "Bitcoin mined with nonce value : 36674\n",
      "Hash value :  000086ae35230f32b08e9da254bd7ba1b351f11d40bde27a7ebd5e7ec9568f8d\n",
      "The mining process took  0.09729385375976562 seconds\n"
     ]
    }
   ],
   "source": [
    "transactions='''\n",
    "A->B->10\n",
    "B->c->5\n",
    "'''\n",
    "difficulty = 4\n",
    "import time as t\n",
    "begin=t.time()\n",
    "new_hash = mine(684260,transactions,\"000000000000000000006bd3d6ef94d8a01de84e171d3553534783b128f06aad\",difficulty)\n",
    "print(\"Hash value : \",new_hash)\n",
    "time_taken=t.time()- begin\n",
    "print(\"The mining process took \",time_taken,\"seconds\")"
   ]
  },
  {
   "cell_type": "code",
   "execution_count": null,
   "metadata": {},
   "outputs": [],
   "source": []
  }
 ],
 "metadata": {
  "kernelspec": {
   "display_name": "Python 3",
   "language": "python",
   "name": "python3"
  },
  "language_info": {
   "codemirror_mode": {
    "name": "ipython",
    "version": 3
   },
   "file_extension": ".py",
   "mimetype": "text/x-python",
   "name": "python",
   "nbconvert_exporter": "python",
   "pygments_lexer": "ipython3",
   "version": "3.8.4"
  }
 },
 "nbformat": 4,
 "nbformat_minor": 4
}
